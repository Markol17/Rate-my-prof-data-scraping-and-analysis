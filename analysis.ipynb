{
 "cells": [
  {
   "cell_type": "code",
   "execution_count": 34,
   "metadata": {},
   "outputs": [],
   "source": [
    "import pandas as pd\n",
    "import altair as alt\n",
    "import numpy as np\n",
    "import matplotlib.pyplot as plt\n",
    "from sklearn.ensemble import RandomForestClassifier\n",
    "from sklearn.preprocessing import StandardScaler\n",
    "from sklearn.decomposition import PCA\n",
    "\n",
    "df = pd.read_csv('SchoolID_1452.csv', encoding=\"ISO-8859-1\")"
   ]
  },
  {
   "cell_type": "code",
   "execution_count": 35,
   "metadata": {},
   "outputs": [
    {
     "name": "stdout",
     "output_type": "stream",
     "text": [
      "3840\n",
      "3274\n"
     ]
    }
   ],
   "source": [
    "print(len(df))\n",
    "unique_tid_df = df.drop_duplicates(subset='tid', keep='first')\n",
    "unique_tid_df.to_csv('SchoolID_1452_unique_tid.csv', index=False)\n",
    "print(len(unique_tid_df))"
   ]
  },
  {
   "cell_type": "code",
   "execution_count": 55,
   "metadata": {},
   "outputs": [],
   "source": [
    "def avg_rating(tDept):\n",
    "    return unique_tid_df[unique_tid_df['tDept'] == tDept]['overall_rating'].mean()\n",
    "\n",
    "avg_dept_rating_df = pd.DataFrame(unique_tid_df['tDept'].unique(), columns=['tDept'])\n",
    "avg_dept_rating_df['avg_rating'] = avg_dept_rating_df['tDept'].apply(avg_rating)\n",
    "sorted_avg_rating_df = avg_dept_rating_df.sort_values(by=['avg_rating'], ascending=False)\n",
    "sorted_avg_rating_df.to_csv('avg_dept_rating.csv', index=False)"
   ]
  },
  {
   "cell_type": "code",
   "execution_count": 75,
   "metadata": {},
   "outputs": [
    {
     "data": {
      "text/html": [
       "\n",
       "<div id=\"altair-viz-0efc0381004b418d8594085ad60e740f\"></div>\n",
       "<script type=\"text/javascript\">\n",
       "  var VEGA_DEBUG = (typeof VEGA_DEBUG == \"undefined\") ? {} : VEGA_DEBUG;\n",
       "  (function(spec, embedOpt){\n",
       "    let outputDiv = document.currentScript.previousElementSibling;\n",
       "    if (outputDiv.id !== \"altair-viz-0efc0381004b418d8594085ad60e740f\") {\n",
       "      outputDiv = document.getElementById(\"altair-viz-0efc0381004b418d8594085ad60e740f\");\n",
       "    }\n",
       "    const paths = {\n",
       "      \"vega\": \"https://cdn.jsdelivr.net/npm//vega@5?noext\",\n",
       "      \"vega-lib\": \"https://cdn.jsdelivr.net/npm//vega-lib?noext\",\n",
       "      \"vega-lite\": \"https://cdn.jsdelivr.net/npm//vega-lite@4.17.0?noext\",\n",
       "      \"vega-embed\": \"https://cdn.jsdelivr.net/npm//vega-embed@6?noext\",\n",
       "    };\n",
       "\n",
       "    function maybeLoadScript(lib, version) {\n",
       "      var key = `${lib.replace(\"-\", \"\")}_version`;\n",
       "      return (VEGA_DEBUG[key] == version) ?\n",
       "        Promise.resolve(paths[lib]) :\n",
       "        new Promise(function(resolve, reject) {\n",
       "          var s = document.createElement('script');\n",
       "          document.getElementsByTagName(\"head\")[0].appendChild(s);\n",
       "          s.async = true;\n",
       "          s.onload = () => {\n",
       "            VEGA_DEBUG[key] = version;\n",
       "            return resolve(paths[lib]);\n",
       "          };\n",
       "          s.onerror = () => reject(`Error loading script: ${paths[lib]}`);\n",
       "          s.src = paths[lib];\n",
       "        });\n",
       "    }\n",
       "\n",
       "    function showError(err) {\n",
       "      outputDiv.innerHTML = `<div class=\"error\" style=\"color:red;\">${err}</div>`;\n",
       "      throw err;\n",
       "    }\n",
       "\n",
       "    function displayChart(vegaEmbed) {\n",
       "      vegaEmbed(outputDiv, spec, embedOpt)\n",
       "        .catch(err => showError(`Javascript Error: ${err.message}<br>This usually means there's a typo in your chart specification. See the javascript console for the full traceback.`));\n",
       "    }\n",
       "\n",
       "    if(typeof define === \"function\" && define.amd) {\n",
       "      requirejs.config({paths});\n",
       "      require([\"vega-embed\"], displayChart, err => showError(`Error loading script: ${err.message}`));\n",
       "    } else {\n",
       "      maybeLoadScript(\"vega\", \"5\")\n",
       "        .then(() => maybeLoadScript(\"vega-lite\", \"4.17.0\"))\n",
       "        .then(() => maybeLoadScript(\"vega-embed\", \"6\"))\n",
       "        .catch(showError)\n",
       "        .then(() => displayChart(vegaEmbed));\n",
       "    }\n",
       "  })({\"config\": {\"view\": {\"continuousWidth\": 400, \"continuousHeight\": 300}}, \"data\": {\"name\": \"data-6bde19e174930735ab0d9d05fb84ad4c\"}, \"mark\": \"bar\", \"encoding\": {\"color\": {\"field\": \"avg_rating\", \"type\": \"quantitative\"}, \"x\": {\"field\": \"tDept\", \"sort\": null, \"type\": \"nominal\"}, \"y\": {\"field\": \"avg_rating\", \"type\": \"quantitative\"}}, \"height\": 800, \"width\": 1500, \"$schema\": \"https://vega.github.io/schema/vega-lite/v4.17.0.json\", \"datasets\": {\"data-6bde19e174930735ab0d9d05fb84ad4c\": [{\"tDept\": \"Microbiology\", \"avg_rating\": 4.9}, {\"tDept\": \"Bioengineering\", \"avg_rating\": 4.8}, {\"tDept\": \"Journalism\", \"avg_rating\": 4.65}, {\"tDept\": \"German\", \"avg_rating\": 4.65}, {\"tDept\": \"Classical & Medieval Studies\", \"avg_rating\": 4.550000000000001}, {\"tDept\": \"International Public Affairs\", \"avg_rating\": 4.516666666666667}, {\"tDept\": \"Physical Education\", \"avg_rating\": 4.5}, {\"tDept\": \"Japanese\", \"avg_rating\": 4.42}, {\"tDept\": \"Environmental Studies\", \"avg_rating\": 4.409999999999999}, {\"tDept\": \"Mathematics & Statistics\", \"avg_rating\": 4.4}, {\"tDept\": \"Film\", \"avg_rating\": 4.4}, {\"tDept\": \"Computer & Informational Tech.\", \"avg_rating\": 4.3}, {\"tDept\": \"Canadian Studies\", \"avg_rating\": 4.3}, {\"tDept\": \"Humanities\", \"avg_rating\": 4.237500000000001}, {\"tDept\": \"Modern Languages & Literatures\", \"avg_rating\": 4.213333333333334}, {\"tDept\": \"Human Development\", \"avg_rating\": 4.15}, {\"tDept\": \"Health\", \"avg_rating\": 4.122222222222223}, {\"tDept\": \"Arabic Studies\", \"avg_rating\": 4.1000000000000005}, {\"tDept\": \"International Studies\", \"avg_rating\": 4.076470588235294}, {\"tDept\": \"Sociology & Anthropology\", \"avg_rating\": 4.042857142857143}, {\"tDept\": \"Human Kinetics\", \"avg_rating\": 4.0}, {\"tDept\": \"Theology\", \"avg_rating\": 4.0}, {\"tDept\": \"Visual Arts\", \"avg_rating\": 4.0}, {\"tDept\": \"Modern Languages amp Literatures\", \"avg_rating\": 4.0}, {\"tDept\": \"Ethnic Studies\", \"avg_rating\": 3.95}, {\"tDept\": \"Theater\", \"avg_rating\": 3.928571428571428}, {\"tDept\": \"Religion\", \"avg_rating\": 3.8588235294117643}, {\"tDept\": \"Anthropology\", \"avg_rating\": 3.847619047619048}, {\"tDept\": \"Italian\", \"avg_rating\": 3.8000000000000003}, {\"tDept\": \"Anthropology  Geo Sciences\", \"avg_rating\": 3.8}, {\"tDept\": \"English\", \"avg_rating\": 3.754263565891473}, {\"tDept\": \"Linguistics\", \"avg_rating\": 3.7526315789473683}, {\"tDept\": \"Languages\", \"avg_rating\": 3.738461538461538}, {\"tDept\": \"Geography\", \"avg_rating\": 3.7375}, {\"tDept\": \"Women\", \"avg_rating\": 3.7}, {\"tDept\": \"History\", \"avg_rating\": 3.6955056179775276}, {\"tDept\": \"Social Work\", \"avg_rating\": 3.691304347826087}, {\"tDept\": \"Classics\", \"avg_rating\": 3.686666666666667}, {\"tDept\": \"Social Sciences\", \"avg_rating\": 3.6722222222222225}, {\"tDept\": \"Policy Studies\", \"avg_rating\": 3.6714285714285713}, {\"tDept\": \"Psychology\", \"avg_rating\": 3.656451612903226}, {\"tDept\": \"Art\", \"avg_rating\": 3.6562500000000004}, {\"tDept\": \"Earth  Environmental Sciences\", \"avg_rating\": 3.65}, {\"tDept\": \"Music\", \"avg_rating\": 3.633333333333333}, {\"tDept\": \"Criminal Justice\", \"avg_rating\": 3.603448275862069}, {\"tDept\": \"Earth & Environmental Sciences\", \"avg_rating\": 3.6}, {\"tDept\": \"Chemistry\", \"avg_rating\": 3.5818181818181816}, {\"tDept\": \"Modern Languages  Literatures\", \"avg_rating\": 3.5799999999999996}, {\"tDept\": \"Education\", \"avg_rating\": 3.5720000000000005}, {\"tDept\": \"Geology\", \"avg_rating\": 3.5700000000000003}, {\"tDept\": \"Physical Ed\", \"avg_rating\": 3.55}, {\"tDept\": \"Communication\", \"avg_rating\": 3.5449438202247183}, {\"tDept\": \"Philosophy\", \"avg_rating\": 3.544262295081967}, {\"tDept\": \"Political Science\", \"avg_rating\": 3.5380000000000003}, {\"tDept\": \"Electrical Engineering  Computer Science\", \"avg_rating\": 3.533333333333333}, {\"tDept\": \"Fine Arts\", \"avg_rating\": 3.5}, {\"tDept\": \"French\", \"avg_rating\": 3.49622641509434}, {\"tDept\": \"Engineering\", \"avg_rating\": 3.493023255813953}, {\"tDept\": \"Social Science\", \"avg_rating\": 3.488888888888889}, {\"tDept\": \"Translation\", \"avg_rating\": 3.4733333333333336}, {\"tDept\": \"Art History\", \"avg_rating\": 3.4625000000000004}, {\"tDept\": \"Management\", \"avg_rating\": 3.4625}, {\"tDept\": \"Sociology  Anthropology\", \"avg_rating\": 3.45}, {\"tDept\": \"Not Specified\", \"avg_rating\": 3.4499999999999997}, {\"tDept\": \"Political Studies\", \"avg_rating\": 3.4499999999999997}, {\"tDept\": \"Health  Physical Education\", \"avg_rating\": 3.4199999999999995}, {\"tDept\": \"Business\", \"avg_rating\": 3.418681318681319}, {\"tDept\": \"Health & Physical Education\", \"avg_rating\": 3.409090909090909}, {\"tDept\": \"Law\", \"avg_rating\": 3.403468208092485}, {\"tDept\": \"Computer Science\", \"avg_rating\": 3.400000000000001}, {\"tDept\": \"Criminology\", \"avg_rating\": 3.3892857142857147}, {\"tDept\": \"Biology\", \"avg_rating\": 3.3756756756756756}, {\"tDept\": \"Medicine\", \"avg_rating\": 3.3629629629629636}, {\"tDept\": \"Science\", \"avg_rating\": 3.351063829787234}, {\"tDept\": \"Literature\", \"avg_rating\": 3.342857142857143}, {\"tDept\": \"Women's Studies\", \"avg_rating\": 3.3049999999999997}, {\"tDept\": \"Marketing\", \"avg_rating\": 3.294736842105263}, {\"tDept\": \"Mathematics\", \"avg_rating\": 3.2894039735099336}, {\"tDept\": \"Sociology\", \"avg_rating\": 3.284745762711865}, {\"tDept\": \"Gender Studies\", \"avg_rating\": 3.2714285714285714}, {\"tDept\": \"Health Science\", \"avg_rating\": 3.2696721311475407}, {\"tDept\": \"Administration\", \"avg_rating\": 3.258823529411765}, {\"tDept\": \"Nursing\", \"avg_rating\": 3.2488372093023252}, {\"tDept\": \"Physics\", \"avg_rating\": 3.2333333333333343}, {\"tDept\": \"Writing\", \"avg_rating\": 3.2}, {\"tDept\": \"Accounting\", \"avg_rating\": 3.174193548387097}, {\"tDept\": \"Information Science\", \"avg_rating\": 3.1666666666666665}, {\"tDept\": \"Economics\", \"avg_rating\": 3.1627906976744184}, {\"tDept\": \"Electrical Engineering\", \"avg_rating\": 3.1}, {\"tDept\": \"Biomedical Engineering\", \"avg_rating\": 3.0}, {\"tDept\": \"Electrical Engineering amp Computer Science\", \"avg_rating\": 3.0}, {\"tDept\": \"Public Administration\", \"avg_rating\": 3.0}, {\"tDept\": \"Information Technology\", \"avg_rating\": 2.8499999999999996}, {\"tDept\": \"Finance\", \"avg_rating\": 2.8200000000000003}, {\"tDept\": \"Electrical Engineering & Computer Science\", \"avg_rating\": 2.7545454545454544}, {\"tDept\": \"Native Studies\", \"avg_rating\": 1.6}, {\"tDept\": \"Computer  Informational Tech.\", \"avg_rating\": 1.3}, {\"tDept\": \"Computer Engineering\", \"avg_rating\": 0.0}, {\"tDept\": \"Graduate Studies\", \"avg_rating\": 0.0}, {\"tDept\": \"Culinary Arts\", \"avg_rating\": 0.0}, {\"tDept\": \"Business Law\", \"avg_rating\": 0.0}, {\"tDept\": \"Health amp Physical Education\", \"avg_rating\": 0.0}]}}, {\"mode\": \"vega-lite\"});\n",
       "</script>"
      ],
      "text/plain": [
       "alt.Chart(...)"
      ]
     },
     "execution_count": 75,
     "metadata": {},
     "output_type": "execute_result"
    }
   ],
   "source": [
    "sorted_avg_rating_df['avg_rating'].fillna(0, inplace=True)\n",
    "alt.Chart(sorted_avg_rating_df).mark_bar().encode(\n",
    "    x=alt.Y('tDept', sort=None),\n",
    "    y='avg_rating',\n",
    "    color='avg_rating'\n",
    ").properties(\n",
    "    width=1500,\n",
    "    height=800\n",
    ")"
   ]
  },
  {
   "cell_type": "code",
   "execution_count": 38,
   "metadata": {},
   "outputs": [
    {
     "name": "stdout",
     "output_type": "stream",
     "text": [
      "63951\n",
      "Index(['teacher_id', 'attendance', 'clarityColor', 'easyColor', 'helpColor',\n",
      "       'helpCount', 'id', 'notHelpCount', 'onlineClass', 'quality', 'rClarity',\n",
      "       'rClass', 'rComments', 'rDate', 'rEasy', 'rEasyString', 'rErrorMsg',\n",
      "       'rHelpful', 'rInterest', 'rOverall', 'rOverallString', 'rStatus',\n",
      "       'rTextBookUse', 'rTimestamp', 'rWouldTakeAgain', 'sId',\n",
      "       'takenForCredit', 'teacher', 'teacherGrade', 'teacherRatingTags',\n",
      "       'unUsefulGrouping', 'usefulGrouping', 'overall_rating'],\n",
      "      dtype='object')\n"
     ]
    }
   ],
   "source": [
    "reviews_df = pd.read_csv('all_reviews.csv')\n",
    "\n",
    "print(len(reviews_df))\n",
    "print(reviews_df.columns)"
   ]
  },
  {
   "cell_type": "code",
   "execution_count": 77,
   "metadata": {},
   "outputs": [
    {
     "ename": "ValueError",
     "evalue": "could not convert string to float: 'Mandatory'",
     "output_type": "error",
     "traceback": [
      "\u001b[1;31m---------------------------------------------------------------------------\u001b[0m",
      "\u001b[1;31mValueError\u001b[0m                                Traceback (most recent call last)",
      "\u001b[1;32m~\\AppData\\Local\\Temp\\ipykernel_7044\\2926562105.py\u001b[0m in \u001b[0;36m<module>\u001b[1;34m\u001b[0m\n\u001b[0;32m      3\u001b[0m \u001b[1;33m\u001b[0m\u001b[0m\n\u001b[0;32m      4\u001b[0m \u001b[0mclf\u001b[0m \u001b[1;33m=\u001b[0m \u001b[0mRandomForestClassifier\u001b[0m\u001b[1;33m(\u001b[0m\u001b[1;33m)\u001b[0m\u001b[1;33m\u001b[0m\u001b[1;33m\u001b[0m\u001b[0m\n\u001b[1;32m----> 5\u001b[1;33m \u001b[0mclf\u001b[0m\u001b[1;33m.\u001b[0m\u001b[0mfit\u001b[0m\u001b[1;33m(\u001b[0m\u001b[0mreviews_df\u001b[0m\u001b[1;33m[\u001b[0m\u001b[0mfeatures\u001b[0m\u001b[1;33m]\u001b[0m\u001b[1;33m,\u001b[0m \u001b[0mreviews_df\u001b[0m\u001b[1;33m[\u001b[0m\u001b[1;34m'overall_rating'\u001b[0m\u001b[1;33m]\u001b[0m\u001b[1;33m)\u001b[0m\u001b[1;33m\u001b[0m\u001b[1;33m\u001b[0m\u001b[0m\n\u001b[0m\u001b[0;32m      6\u001b[0m \u001b[1;33m\u001b[0m\u001b[0m\n\u001b[0;32m      7\u001b[0m \u001b[0mimportances\u001b[0m \u001b[1;33m=\u001b[0m \u001b[0mclf\u001b[0m\u001b[1;33m.\u001b[0m\u001b[0mfeature_importances_\u001b[0m\u001b[1;33m\u001b[0m\u001b[1;33m\u001b[0m\u001b[0m\n",
      "\u001b[1;32mc:\\Users\\Mark\\AppData\\Local\\Programs\\Python\\Python37\\lib\\site-packages\\sklearn\\ensemble\\_forest.py\u001b[0m in \u001b[0;36mfit\u001b[1;34m(self, X, y, sample_weight)\u001b[0m\n\u001b[0;32m    326\u001b[0m             \u001b[1;32mraise\u001b[0m \u001b[0mValueError\u001b[0m\u001b[1;33m(\u001b[0m\u001b[1;34m\"sparse multilabel-indicator for y is not supported.\"\u001b[0m\u001b[1;33m)\u001b[0m\u001b[1;33m\u001b[0m\u001b[1;33m\u001b[0m\u001b[0m\n\u001b[0;32m    327\u001b[0m         X, y = self._validate_data(\n\u001b[1;32m--> 328\u001b[1;33m             \u001b[0mX\u001b[0m\u001b[1;33m,\u001b[0m \u001b[0my\u001b[0m\u001b[1;33m,\u001b[0m \u001b[0mmulti_output\u001b[0m\u001b[1;33m=\u001b[0m\u001b[1;32mTrue\u001b[0m\u001b[1;33m,\u001b[0m \u001b[0maccept_sparse\u001b[0m\u001b[1;33m=\u001b[0m\u001b[1;34m\"csc\"\u001b[0m\u001b[1;33m,\u001b[0m \u001b[0mdtype\u001b[0m\u001b[1;33m=\u001b[0m\u001b[0mDTYPE\u001b[0m\u001b[1;33m\u001b[0m\u001b[1;33m\u001b[0m\u001b[0m\n\u001b[0m\u001b[0;32m    329\u001b[0m         )\n\u001b[0;32m    330\u001b[0m         \u001b[1;32mif\u001b[0m \u001b[0msample_weight\u001b[0m \u001b[1;32mis\u001b[0m \u001b[1;32mnot\u001b[0m \u001b[1;32mNone\u001b[0m\u001b[1;33m:\u001b[0m\u001b[1;33m\u001b[0m\u001b[1;33m\u001b[0m\u001b[0m\n",
      "\u001b[1;32mc:\\Users\\Mark\\AppData\\Local\\Programs\\Python\\Python37\\lib\\site-packages\\sklearn\\base.py\u001b[0m in \u001b[0;36m_validate_data\u001b[1;34m(self, X, y, reset, validate_separately, **check_params)\u001b[0m\n\u001b[0;32m    579\u001b[0m                 \u001b[0my\u001b[0m \u001b[1;33m=\u001b[0m \u001b[0mcheck_array\u001b[0m\u001b[1;33m(\u001b[0m\u001b[0my\u001b[0m\u001b[1;33m,\u001b[0m \u001b[1;33m**\u001b[0m\u001b[0mcheck_y_params\u001b[0m\u001b[1;33m)\u001b[0m\u001b[1;33m\u001b[0m\u001b[1;33m\u001b[0m\u001b[0m\n\u001b[0;32m    580\u001b[0m             \u001b[1;32melse\u001b[0m\u001b[1;33m:\u001b[0m\u001b[1;33m\u001b[0m\u001b[1;33m\u001b[0m\u001b[0m\n\u001b[1;32m--> 581\u001b[1;33m                 \u001b[0mX\u001b[0m\u001b[1;33m,\u001b[0m \u001b[0my\u001b[0m \u001b[1;33m=\u001b[0m \u001b[0mcheck_X_y\u001b[0m\u001b[1;33m(\u001b[0m\u001b[0mX\u001b[0m\u001b[1;33m,\u001b[0m \u001b[0my\u001b[0m\u001b[1;33m,\u001b[0m \u001b[1;33m**\u001b[0m\u001b[0mcheck_params\u001b[0m\u001b[1;33m)\u001b[0m\u001b[1;33m\u001b[0m\u001b[1;33m\u001b[0m\u001b[0m\n\u001b[0m\u001b[0;32m    582\u001b[0m             \u001b[0mout\u001b[0m \u001b[1;33m=\u001b[0m \u001b[0mX\u001b[0m\u001b[1;33m,\u001b[0m \u001b[0my\u001b[0m\u001b[1;33m\u001b[0m\u001b[1;33m\u001b[0m\u001b[0m\n\u001b[0;32m    583\u001b[0m \u001b[1;33m\u001b[0m\u001b[0m\n",
      "\u001b[1;32mc:\\Users\\Mark\\AppData\\Local\\Programs\\Python\\Python37\\lib\\site-packages\\sklearn\\utils\\validation.py\u001b[0m in \u001b[0;36mcheck_X_y\u001b[1;34m(X, y, accept_sparse, accept_large_sparse, dtype, order, copy, force_all_finite, ensure_2d, allow_nd, multi_output, ensure_min_samples, ensure_min_features, y_numeric, estimator)\u001b[0m\n\u001b[0;32m    974\u001b[0m         \u001b[0mensure_min_samples\u001b[0m\u001b[1;33m=\u001b[0m\u001b[0mensure_min_samples\u001b[0m\u001b[1;33m,\u001b[0m\u001b[1;33m\u001b[0m\u001b[1;33m\u001b[0m\u001b[0m\n\u001b[0;32m    975\u001b[0m         \u001b[0mensure_min_features\u001b[0m\u001b[1;33m=\u001b[0m\u001b[0mensure_min_features\u001b[0m\u001b[1;33m,\u001b[0m\u001b[1;33m\u001b[0m\u001b[1;33m\u001b[0m\u001b[0m\n\u001b[1;32m--> 976\u001b[1;33m         \u001b[0mestimator\u001b[0m\u001b[1;33m=\u001b[0m\u001b[0mestimator\u001b[0m\u001b[1;33m,\u001b[0m\u001b[1;33m\u001b[0m\u001b[1;33m\u001b[0m\u001b[0m\n\u001b[0m\u001b[0;32m    977\u001b[0m     )\n\u001b[0;32m    978\u001b[0m \u001b[1;33m\u001b[0m\u001b[0m\n",
      "\u001b[1;32mc:\\Users\\Mark\\AppData\\Local\\Programs\\Python\\Python37\\lib\\site-packages\\sklearn\\utils\\validation.py\u001b[0m in \u001b[0;36mcheck_array\u001b[1;34m(array, accept_sparse, accept_large_sparse, dtype, order, copy, force_all_finite, ensure_2d, allow_nd, ensure_min_samples, ensure_min_features, estimator)\u001b[0m\n\u001b[0;32m    744\u001b[0m                     \u001b[0marray\u001b[0m \u001b[1;33m=\u001b[0m \u001b[0marray\u001b[0m\u001b[1;33m.\u001b[0m\u001b[0mastype\u001b[0m\u001b[1;33m(\u001b[0m\u001b[0mdtype\u001b[0m\u001b[1;33m,\u001b[0m \u001b[0mcasting\u001b[0m\u001b[1;33m=\u001b[0m\u001b[1;34m\"unsafe\"\u001b[0m\u001b[1;33m,\u001b[0m \u001b[0mcopy\u001b[0m\u001b[1;33m=\u001b[0m\u001b[1;32mFalse\u001b[0m\u001b[1;33m)\u001b[0m\u001b[1;33m\u001b[0m\u001b[1;33m\u001b[0m\u001b[0m\n\u001b[0;32m    745\u001b[0m                 \u001b[1;32melse\u001b[0m\u001b[1;33m:\u001b[0m\u001b[1;33m\u001b[0m\u001b[1;33m\u001b[0m\u001b[0m\n\u001b[1;32m--> 746\u001b[1;33m                     \u001b[0marray\u001b[0m \u001b[1;33m=\u001b[0m \u001b[0mnp\u001b[0m\u001b[1;33m.\u001b[0m\u001b[0masarray\u001b[0m\u001b[1;33m(\u001b[0m\u001b[0marray\u001b[0m\u001b[1;33m,\u001b[0m \u001b[0morder\u001b[0m\u001b[1;33m=\u001b[0m\u001b[0morder\u001b[0m\u001b[1;33m,\u001b[0m \u001b[0mdtype\u001b[0m\u001b[1;33m=\u001b[0m\u001b[0mdtype\u001b[0m\u001b[1;33m)\u001b[0m\u001b[1;33m\u001b[0m\u001b[1;33m\u001b[0m\u001b[0m\n\u001b[0m\u001b[0;32m    747\u001b[0m             \u001b[1;32mexcept\u001b[0m \u001b[0mComplexWarning\u001b[0m \u001b[1;32mas\u001b[0m \u001b[0mcomplex_warning\u001b[0m\u001b[1;33m:\u001b[0m\u001b[1;33m\u001b[0m\u001b[1;33m\u001b[0m\u001b[0m\n\u001b[0;32m    748\u001b[0m                 raise ValueError(\n",
      "\u001b[1;32mc:\\Users\\Mark\\AppData\\Local\\Programs\\Python\\Python37\\lib\\site-packages\\pandas\\core\\generic.py\u001b[0m in \u001b[0;36m__array__\u001b[1;34m(self, dtype)\u001b[0m\n\u001b[0;32m   1991\u001b[0m \u001b[1;33m\u001b[0m\u001b[0m\n\u001b[0;32m   1992\u001b[0m     \u001b[1;32mdef\u001b[0m \u001b[0m__array__\u001b[0m\u001b[1;33m(\u001b[0m\u001b[0mself\u001b[0m\u001b[1;33m,\u001b[0m \u001b[0mdtype\u001b[0m\u001b[1;33m:\u001b[0m \u001b[0mNpDtype\u001b[0m \u001b[1;33m|\u001b[0m \u001b[1;32mNone\u001b[0m \u001b[1;33m=\u001b[0m \u001b[1;32mNone\u001b[0m\u001b[1;33m)\u001b[0m \u001b[1;33m->\u001b[0m \u001b[0mnp\u001b[0m\u001b[1;33m.\u001b[0m\u001b[0mndarray\u001b[0m\u001b[1;33m:\u001b[0m\u001b[1;33m\u001b[0m\u001b[1;33m\u001b[0m\u001b[0m\n\u001b[1;32m-> 1993\u001b[1;33m         \u001b[1;32mreturn\u001b[0m \u001b[0mnp\u001b[0m\u001b[1;33m.\u001b[0m\u001b[0masarray\u001b[0m\u001b[1;33m(\u001b[0m\u001b[0mself\u001b[0m\u001b[1;33m.\u001b[0m\u001b[0m_values\u001b[0m\u001b[1;33m,\u001b[0m \u001b[0mdtype\u001b[0m\u001b[1;33m=\u001b[0m\u001b[0mdtype\u001b[0m\u001b[1;33m)\u001b[0m\u001b[1;33m\u001b[0m\u001b[1;33m\u001b[0m\u001b[0m\n\u001b[0m\u001b[0;32m   1994\u001b[0m \u001b[1;33m\u001b[0m\u001b[0m\n\u001b[0;32m   1995\u001b[0m     def __array_wrap__(\n",
      "\u001b[1;31mValueError\u001b[0m: could not convert string to float: 'Mandatory'"
     ]
    }
   ],
   "source": [
    "# need some more data processing to convert strings to numbers\n",
    "# source: https://datascience.stackexchange.com/questions/69572/how-to-determine-which-features-matter-the-most\n",
    "features = np.array(['attendance', 'rEasy', 'rWouldTakeAgain', 'onlineClass', 'teacherGrade', 'quality', 'rClarity'])\n",
    "\n",
    "clf = RandomForestClassifier()\n",
    "clf.fit(reviews_df[features], reviews_df['overall_rating'])\n",
    "\n",
    "importances = clf.feature_importances_\n",
    "sorted_idx = np.argsort(importances)\n",
    "\n",
    "\n",
    "padding = np.arange(len(features)) + 0.5\n",
    "plt.barh(padding, importances[sorted_idx], align='center')\n",
    "plt.yticks(padding, features[sorted_idx])\n",
    "plt.xlabel(\"Relative Importance\")\n",
    "plt.title(\"Variable Importance\")\n",
    "plt.show()\n",
    "\n",
    "# other types of feature selection\n",
    "# https://scikit-learn.org/stable/modules/feature_selection.html"
   ]
  }
 ],
 "metadata": {
  "kernelspec": {
   "display_name": "Python 3.7.3 64-bit",
   "language": "python",
   "name": "python3"
  },
  "language_info": {
   "codemirror_mode": {
    "name": "ipython",
    "version": 3
   },
   "file_extension": ".py",
   "mimetype": "text/x-python",
   "name": "python",
   "nbconvert_exporter": "python",
   "pygments_lexer": "ipython3",
   "version": "3.7.3"
  },
  "orig_nbformat": 4,
  "vscode": {
   "interpreter": {
    "hash": "73238ad1fb364f6da40b9d51a958ddf3d66f3d7d602e30971b91b237e0c649dd"
   }
  }
 },
 "nbformat": 4,
 "nbformat_minor": 2
}
