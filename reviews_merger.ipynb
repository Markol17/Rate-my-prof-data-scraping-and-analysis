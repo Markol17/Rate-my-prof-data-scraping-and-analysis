{
 "cells": [
  {
   "cell_type": "code",
   "execution_count": 12,
   "metadata": {},
   "outputs": [],
   "source": [
    "import glob\n",
    "import pandas as pd\n",
    "\n",
    "path = r'SchoolID_1452'\n",
    "all_files = glob.glob(path + \"/*.csv\")\n",
    "\n",
    "profs_df = pd.read_csv('SchoolID_1452_unique_tid.csv')\n",
    "\n",
    "li = []\n",
    "\n",
    "for filename in all_files:\n",
    "    teacher_id = filename.split('_')[2].split('.')[0]\n",
    "    df = pd.read_csv(filename, index_col=None, header=0, encoding=\"ISO-8859-1\")\n",
    "    df.insert(0, 'teacher_id', teacher_id)\n",
    "    df['overall_rating'] = profs_df.loc[profs_df['tid'] == int(teacher_id), 'overall_rating'].iloc[0]\n",
    "    li.append(df)\n",
    "\n",
    "df = pd.concat(li, axis=0, ignore_index=True)\n",
    "df.to_csv('all_reviews.csv', index=False)"
   ]
  }
 ],
 "metadata": {
  "kernelspec": {
   "display_name": "Python 3.7.3 64-bit",
   "language": "python",
   "name": "python3"
  },
  "language_info": {
   "codemirror_mode": {
    "name": "ipython",
    "version": 3
   },
   "file_extension": ".py",
   "mimetype": "text/x-python",
   "name": "python",
   "nbconvert_exporter": "python",
   "pygments_lexer": "ipython3",
   "version": "3.7.3"
  },
  "orig_nbformat": 4,
  "vscode": {
   "interpreter": {
    "hash": "73238ad1fb364f6da40b9d51a958ddf3d66f3d7d602e30971b91b237e0c649dd"
   }
  }
 },
 "nbformat": 4,
 "nbformat_minor": 2
}
