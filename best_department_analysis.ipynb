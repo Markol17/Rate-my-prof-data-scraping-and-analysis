{
 "cells": [
  {
   "cell_type": "code",
   "execution_count": 1,
   "metadata": {},
   "outputs": [],
   "source": [
    "import pandas as pd\n",
    "import altair as alt\n",
    "\n",
    "df = pd.read_csv('SchoolID_1452.csv', encoding=\"ISO-8859-1\")"
   ]
  },
  {
   "cell_type": "code",
   "execution_count": 2,
   "metadata": {},
   "outputs": [
    {
     "name": "stdout",
     "output_type": "stream",
     "text": [
      "3840\n",
      "3274\n"
     ]
    }
   ],
   "source": [
    "print(len(df))\n",
    "unique_tid_df = df.drop_duplicates(subset='tid', keep='first')\n",
    "unique_tid_df.to_csv('SchoolID_1452_unique_tid.csv', index=False)\n",
    "print(len(unique_tid_df))"
   ]
  },
  {
   "cell_type": "code",
   "execution_count": 3,
   "metadata": {},
   "outputs": [],
   "source": [
    "def avg_rating(tDept):\n",
    "    return unique_tid_df[unique_tid_df['tDept'] == tDept]['overall_rating'].mean()"
   ]
  },
  {
   "cell_type": "code",
   "execution_count": 4,
   "metadata": {},
   "outputs": [
    {
     "data": {
      "text/html": [
       "\n",
       "<div id=\"altair-viz-b2032482fa8d435ca837ee3bc719994e\"></div>\n",
       "<script type=\"text/javascript\">\n",
       "  var VEGA_DEBUG = (typeof VEGA_DEBUG == \"undefined\") ? {} : VEGA_DEBUG;\n",
       "  (function(spec, embedOpt){\n",
       "    let outputDiv = document.currentScript.previousElementSibling;\n",
       "    if (outputDiv.id !== \"altair-viz-b2032482fa8d435ca837ee3bc719994e\") {\n",
       "      outputDiv = document.getElementById(\"altair-viz-b2032482fa8d435ca837ee3bc719994e\");\n",
       "    }\n",
       "    const paths = {\n",
       "      \"vega\": \"https://cdn.jsdelivr.net/npm//vega@5?noext\",\n",
       "      \"vega-lib\": \"https://cdn.jsdelivr.net/npm//vega-lib?noext\",\n",
       "      \"vega-lite\": \"https://cdn.jsdelivr.net/npm//vega-lite@4.17.0?noext\",\n",
       "      \"vega-embed\": \"https://cdn.jsdelivr.net/npm//vega-embed@6?noext\",\n",
       "    };\n",
       "\n",
       "    function maybeLoadScript(lib, version) {\n",
       "      var key = `${lib.replace(\"-\", \"\")}_version`;\n",
       "      return (VEGA_DEBUG[key] == version) ?\n",
       "        Promise.resolve(paths[lib]) :\n",
       "        new Promise(function(resolve, reject) {\n",
       "          var s = document.createElement('script');\n",
       "          document.getElementsByTagName(\"head\")[0].appendChild(s);\n",
       "          s.async = true;\n",
       "          s.onload = () => {\n",
       "            VEGA_DEBUG[key] = version;\n",
       "            return resolve(paths[lib]);\n",
       "          };\n",
       "          s.onerror = () => reject(`Error loading script: ${paths[lib]}`);\n",
       "          s.src = paths[lib];\n",
       "        });\n",
       "    }\n",
       "\n",
       "    function showError(err) {\n",
       "      outputDiv.innerHTML = `<div class=\"error\" style=\"color:red;\">${err}</div>`;\n",
       "      throw err;\n",
       "    }\n",
       "\n",
       "    function displayChart(vegaEmbed) {\n",
       "      vegaEmbed(outputDiv, spec, embedOpt)\n",
       "        .catch(err => showError(`Javascript Error: ${err.message}<br>This usually means there's a typo in your chart specification. See the javascript console for the full traceback.`));\n",
       "    }\n",
       "\n",
       "    if(typeof define === \"function\" && define.amd) {\n",
       "      requirejs.config({paths});\n",
       "      require([\"vega-embed\"], displayChart, err => showError(`Error loading script: ${err.message}`));\n",
       "    } else {\n",
       "      maybeLoadScript(\"vega\", \"5\")\n",
       "        .then(() => maybeLoadScript(\"vega-lite\", \"4.17.0\"))\n",
       "        .then(() => maybeLoadScript(\"vega-embed\", \"6\"))\n",
       "        .catch(showError)\n",
       "        .then(() => displayChart(vegaEmbed));\n",
       "    }\n",
       "  })({\"config\": {\"view\": {\"continuousWidth\": 400, \"continuousHeight\": 300}}, \"data\": {\"name\": \"data-6bde19e174930735ab0d9d05fb84ad4c\"}, \"mark\": \"bar\", \"encoding\": {\"color\": {\"field\": \"avg_rating\", \"type\": \"quantitative\"}, \"x\": {\"field\": \"tDept\", \"sort\": null, \"type\": \"nominal\"}, \"y\": {\"field\": \"avg_rating\", \"type\": \"quantitative\"}}, \"height\": 800, \"width\": 1500, \"$schema\": \"https://vega.github.io/schema/vega-lite/v4.17.0.json\", \"datasets\": {\"data-6bde19e174930735ab0d9d05fb84ad4c\": [{\"tDept\": \"Microbiology\", \"avg_rating\": 4.9}, {\"tDept\": \"Bioengineering\", \"avg_rating\": 4.8}, {\"tDept\": \"Journalism\", \"avg_rating\": 4.65}, {\"tDept\": \"German\", \"avg_rating\": 4.65}, {\"tDept\": \"Classical & Medieval Studies\", \"avg_rating\": 4.550000000000001}, {\"tDept\": \"International Public Affairs\", \"avg_rating\": 4.516666666666667}, {\"tDept\": \"Physical Education\", \"avg_rating\": 4.5}, {\"tDept\": \"Japanese\", \"avg_rating\": 4.42}, {\"tDept\": \"Environmental Studies\", \"avg_rating\": 4.409999999999999}, {\"tDept\": \"Mathematics & Statistics\", \"avg_rating\": 4.4}, {\"tDept\": \"Film\", \"avg_rating\": 4.4}, {\"tDept\": \"Computer & Informational Tech.\", \"avg_rating\": 4.3}, {\"tDept\": \"Canadian Studies\", \"avg_rating\": 4.3}, {\"tDept\": \"Humanities\", \"avg_rating\": 4.237500000000001}, {\"tDept\": \"Modern Languages & Literatures\", \"avg_rating\": 4.213333333333334}, {\"tDept\": \"Human Development\", \"avg_rating\": 4.15}, {\"tDept\": \"Health\", \"avg_rating\": 4.122222222222223}, {\"tDept\": \"Arabic Studies\", \"avg_rating\": 4.1000000000000005}, {\"tDept\": \"International Studies\", \"avg_rating\": 4.076470588235294}, {\"tDept\": \"Sociology & Anthropology\", \"avg_rating\": 4.042857142857143}, {\"tDept\": \"Human Kinetics\", \"avg_rating\": 4.0}, {\"tDept\": \"Theology\", \"avg_rating\": 4.0}, {\"tDept\": \"Visual Arts\", \"avg_rating\": 4.0}, {\"tDept\": \"Modern Languages amp Literatures\", \"avg_rating\": 4.0}, {\"tDept\": \"Ethnic Studies\", \"avg_rating\": 3.95}, {\"tDept\": \"Theater\", \"avg_rating\": 3.928571428571428}, {\"tDept\": \"Religion\", \"avg_rating\": 3.8588235294117643}, {\"tDept\": \"Anthropology\", \"avg_rating\": 3.847619047619048}, {\"tDept\": \"Italian\", \"avg_rating\": 3.8000000000000003}, {\"tDept\": \"Anthropology  Geo Sciences\", \"avg_rating\": 3.8}, {\"tDept\": \"English\", \"avg_rating\": 3.754263565891473}, {\"tDept\": \"Linguistics\", \"avg_rating\": 3.7526315789473683}, {\"tDept\": \"Languages\", \"avg_rating\": 3.738461538461538}, {\"tDept\": \"Geography\", \"avg_rating\": 3.7375}, {\"tDept\": \"Women\", \"avg_rating\": 3.7}, {\"tDept\": \"History\", \"avg_rating\": 3.6955056179775276}, {\"tDept\": \"Social Work\", \"avg_rating\": 3.691304347826087}, {\"tDept\": \"Classics\", \"avg_rating\": 3.686666666666667}, {\"tDept\": \"Social Sciences\", \"avg_rating\": 3.6722222222222225}, {\"tDept\": \"Policy Studies\", \"avg_rating\": 3.6714285714285713}, {\"tDept\": \"Psychology\", \"avg_rating\": 3.656451612903226}, {\"tDept\": \"Art\", \"avg_rating\": 3.6562500000000004}, {\"tDept\": \"Earth  Environmental Sciences\", \"avg_rating\": 3.65}, {\"tDept\": \"Music\", \"avg_rating\": 3.633333333333333}, {\"tDept\": \"Criminal Justice\", \"avg_rating\": 3.603448275862069}, {\"tDept\": \"Earth & Environmental Sciences\", \"avg_rating\": 3.6}, {\"tDept\": \"Chemistry\", \"avg_rating\": 3.5818181818181816}, {\"tDept\": \"Modern Languages  Literatures\", \"avg_rating\": 3.5799999999999996}, {\"tDept\": \"Education\", \"avg_rating\": 3.5720000000000005}, {\"tDept\": \"Geology\", \"avg_rating\": 3.5700000000000003}, {\"tDept\": \"Physical Ed\", \"avg_rating\": 3.55}, {\"tDept\": \"Communication\", \"avg_rating\": 3.5449438202247183}, {\"tDept\": \"Philosophy\", \"avg_rating\": 3.544262295081967}, {\"tDept\": \"Political Science\", \"avg_rating\": 3.5380000000000003}, {\"tDept\": \"Electrical Engineering  Computer Science\", \"avg_rating\": 3.533333333333333}, {\"tDept\": \"Fine Arts\", \"avg_rating\": 3.5}, {\"tDept\": \"French\", \"avg_rating\": 3.49622641509434}, {\"tDept\": \"Engineering\", \"avg_rating\": 3.493023255813953}, {\"tDept\": \"Social Science\", \"avg_rating\": 3.488888888888889}, {\"tDept\": \"Translation\", \"avg_rating\": 3.4733333333333336}, {\"tDept\": \"Art History\", \"avg_rating\": 3.4625000000000004}, {\"tDept\": \"Management\", \"avg_rating\": 3.4625}, {\"tDept\": \"Sociology  Anthropology\", \"avg_rating\": 3.45}, {\"tDept\": \"Not Specified\", \"avg_rating\": 3.4499999999999997}, {\"tDept\": \"Political Studies\", \"avg_rating\": 3.4499999999999997}, {\"tDept\": \"Health  Physical Education\", \"avg_rating\": 3.4199999999999995}, {\"tDept\": \"Business\", \"avg_rating\": 3.418681318681319}, {\"tDept\": \"Health & Physical Education\", \"avg_rating\": 3.409090909090909}, {\"tDept\": \"Law\", \"avg_rating\": 3.403468208092485}, {\"tDept\": \"Computer Science\", \"avg_rating\": 3.400000000000001}, {\"tDept\": \"Criminology\", \"avg_rating\": 3.3892857142857147}, {\"tDept\": \"Biology\", \"avg_rating\": 3.3756756756756756}, {\"tDept\": \"Medicine\", \"avg_rating\": 3.3629629629629636}, {\"tDept\": \"Science\", \"avg_rating\": 3.351063829787234}, {\"tDept\": \"Literature\", \"avg_rating\": 3.342857142857143}, {\"tDept\": \"Women's Studies\", \"avg_rating\": 3.3049999999999997}, {\"tDept\": \"Marketing\", \"avg_rating\": 3.294736842105263}, {\"tDept\": \"Mathematics\", \"avg_rating\": 3.2894039735099336}, {\"tDept\": \"Sociology\", \"avg_rating\": 3.284745762711865}, {\"tDept\": \"Gender Studies\", \"avg_rating\": 3.2714285714285714}, {\"tDept\": \"Health Science\", \"avg_rating\": 3.2696721311475407}, {\"tDept\": \"Administration\", \"avg_rating\": 3.258823529411765}, {\"tDept\": \"Nursing\", \"avg_rating\": 3.2488372093023252}, {\"tDept\": \"Physics\", \"avg_rating\": 3.2333333333333343}, {\"tDept\": \"Writing\", \"avg_rating\": 3.2}, {\"tDept\": \"Accounting\", \"avg_rating\": 3.174193548387097}, {\"tDept\": \"Information Science\", \"avg_rating\": 3.1666666666666665}, {\"tDept\": \"Economics\", \"avg_rating\": 3.1627906976744184}, {\"tDept\": \"Electrical Engineering\", \"avg_rating\": 3.1}, {\"tDept\": \"Biomedical Engineering\", \"avg_rating\": 3.0}, {\"tDept\": \"Electrical Engineering amp Computer Science\", \"avg_rating\": 3.0}, {\"tDept\": \"Public Administration\", \"avg_rating\": 3.0}, {\"tDept\": \"Information Technology\", \"avg_rating\": 2.8499999999999996}, {\"tDept\": \"Finance\", \"avg_rating\": 2.8200000000000003}, {\"tDept\": \"Electrical Engineering & Computer Science\", \"avg_rating\": 2.7545454545454544}, {\"tDept\": \"Native Studies\", \"avg_rating\": 1.6}, {\"tDept\": \"Computer  Informational Tech.\", \"avg_rating\": 1.3}, {\"tDept\": \"Computer Engineering\", \"avg_rating\": 0.0}, {\"tDept\": \"Graduate Studies\", \"avg_rating\": 0.0}, {\"tDept\": \"Culinary Arts\", \"avg_rating\": 0.0}, {\"tDept\": \"Business Law\", \"avg_rating\": 0.0}, {\"tDept\": \"Health amp Physical Education\", \"avg_rating\": 0.0}]}}, {\"mode\": \"vega-lite\"});\n",
       "</script>"
      ],
      "text/plain": [
       "alt.Chart(...)"
      ]
     },
     "execution_count": 4,
     "metadata": {},
     "output_type": "execute_result"
    }
   ],
   "source": [
    "avg_dept_rating_df = pd.DataFrame(unique_tid_df['tDept'].unique(), columns=['tDept'])\n",
    "avg_dept_rating_df['avg_rating'] = avg_dept_rating_df['tDept'].apply(avg_rating)\n",
    "sorted_avg_rating_df = avg_dept_rating_df.sort_values(by=['avg_rating'], ascending=False)\n",
    "sorted_avg_rating_df.to_csv('avg_dept_rating.csv', index=False)\n",
    "\n",
    "sorted_avg_rating_df['avg_rating'].fillna(0, inplace=True)\n",
    "alt.Chart(sorted_avg_rating_df).mark_bar().encode(\n",
    "    x=alt.Y('tDept', sort=None),\n",
    "    y='avg_rating',\n",
    "    color='avg_rating'\n",
    ").properties(\n",
    "    width=1500,\n",
    "    height=800\n",
    ")"
   ]
  }
 ],
 "metadata": {
  "kernelspec": {
   "display_name": "Python 3.7.3 64-bit",
   "language": "python",
   "name": "python3"
  },
  "language_info": {
   "codemirror_mode": {
    "name": "ipython",
    "version": 3
   },
   "file_extension": ".py",
   "mimetype": "text/x-python",
   "name": "python",
   "nbconvert_exporter": "python",
   "pygments_lexer": "ipython3",
   "version": "3.7.3 (v3.7.3:ef4ec6ed12, Mar 25 2019, 22:22:05) [MSC v.1916 64 bit (AMD64)]"
  },
  "orig_nbformat": 4,
  "vscode": {
   "interpreter": {
    "hash": "73238ad1fb364f6da40b9d51a958ddf3d66f3d7d602e30971b91b237e0c649dd"
   }
  }
 },
 "nbformat": 4,
 "nbformat_minor": 2
}
